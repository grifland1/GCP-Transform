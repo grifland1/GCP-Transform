{
 "cells": [
  {
   "cell_type": "code",
   "execution_count": null,
   "id": "a963657f-56fe-4717-bd8e-867f39b9f3b5",
   "metadata": {},
   "outputs": [],
   "source": [
    "import numpy as np\n",
    "import pandas as pd\n",
    "from scipy.optimize import minimize\n",
    "import math\n"
   ]
  },
  {
   "cell_type": "code",
   "execution_count": null,
   "id": "b39024c3-4758-4837-b7ce-eb314a0bce3d",
   "metadata": {},
   "outputs": [],
   "source": [
    "def load_points_from_csv(file_path):\n",
    "    \"\"\"Load points from a CSV file.\"\"\"\n",
    "    return pd.read_csv(file_path, usecols=['ID', 'Northing', 'Easting', 'Elevation'])\n"
   ]
  },
  {
   "cell_type": "code",
   "execution_count": null,
   "id": "5d646f7f-7213-4d6d-b619-64a6251acb0f",
   "metadata": {},
   "outputs": [],
   "source": [
    "def transform_points(params, field_points):\n",
    "    \"\"\"Apply a 2D transformation (scaling, rotation, translation) to field points.\"\"\"\n",
    "    scale, angle, tx, ty = params\n",
    "    transformed = np.empty_like(field_points)\n",
    "    cos_angle, sin_angle = np.cos(angle), np.sin(angle)\n",
    "\n",
    "    for i, (x, y) in enumerate(field_points):\n",
    "        x_scaled, y_scaled = x * scale, y * scale\n",
    "        x_new = x_scaled * cos_angle - y_scaled * sin_angle + tx\n",
    "        y_new = x_scaled * sin_angle + y_scaled * cos_angle + ty\n",
    "        transformed[i] = [x_new, y_new]\n",
    "\n",
    "    return transformed\n"
   ]
  },
  {
   "cell_type": "code",
   "execution_count": null,
   "id": "1c9a09f2-c42e-445b-9d94-2142e90ba51a",
   "metadata": {},
   "outputs": [],
   "source": [
    "def compute_transformation_params(control_points, field_points):\n",
    "    \"\"\"Find transformation parameters that best fit field points to control points.\"\"\"\n",
    "    initial_params = [1, 0, 0, 0]  # Initial guess for scale, rotation, tx, ty\n",
    "\n",
    "    def error_function(params):\n",
    "        transformed_points = transform_points(params, field_points)\n",
    "        return np.sum((transformed_points - control_points)**2)\n",
    "\n",
    "    result = minimize(error_function, initial_params, method='L-BFGS-B')\n",
    "    return result.x\n"
   ]
  },
  {
   "cell_type": "code",
   "execution_count": null,
   "id": "3140c1e1-5605-4383-b477-3422651452a3",
   "metadata": {},
   "outputs": [],
   "source": [
    "    # Matching common points and removing outliers\n",
    "\n",
    "def match_common_points(control_points, field_points):\n",
    "    \"\"\"Match common points based on ID.\"\"\"\n",
    "    common_field_points = field_points[field_points['ID'].isin(control_points['ID'])]\n",
    "    common_control_points = control_points[control_points['ID'].isin(field_points['ID'])]\n",
    "    return common_control_points, common_field_points\n",
    "\n",
    "def remove_outliers(initial_transformed_points, control_points, percentage=25):\n",
    "    \"\"\"Remove a percentage of points with the highest distance errors.\"\"\"\n",
    "    errors = np.linalg.norm(initial_transformed_points - control_points[['Easting', 'Northing']].values, axis=1)\n",
    "    error_threshold = np.percentile(errors, 100 - percentage)\n",
    "    keep_indices = errors < error_threshold\n",
    "    return keep_indices\n",
    "\n",
    "    # Perform elevation adjustment\n",
    "\n",
    "def calculate_elevation_adjustment(reduced_common_control_points, reduced_common_field_points):\n",
    "    \"\"\"Calculate the average delta in elevation for adjustment.\"\"\"\n",
    "    elevation_delta = reduced_common_control_points['Elevation'] - reduced_common_field_points['Elevation']\n",
    "    return elevation_delta.mean()\n",
    "\n",
    "def apply_elevation_adjustment(field_points, elevation_adjustment):\n",
    "    \"\"\"Apply elevation adjustment to all field points.\"\"\"\n",
    "    field_points['Adjusted Elevation'] = field_points['Elevation'] + elevation_adjustment\n",
    "    return field_points\n"
   ]
  },
  {
   "cell_type": "code",
   "execution_count": null,
   "id": "5fc8446d-9c42-4b0a-af63-efd9b384deed",
   "metadata": {},
   "outputs": [],
   "source": [
    "def create_adjusted_points(control_points, field_points):\n",
    "    common_control_points, common_field_points = match_common_points(control_points, field_points)\n",
    "\n",
    "    # Initial best-fit transformation\n",
    "    initial_params = compute_transformation_params(common_control_points[['Easting', 'Northing']].values, \n",
    "                                                   common_field_points[['Easting', 'Northing']].values)\n",
    "    initial_transformed = transform_points(initial_params, common_field_points[['Easting', 'Northing']].values)\n",
    "\n",
    "    # Remove outliers\n",
    "    keep_indices = remove_outliers(initial_transformed, common_control_points)\n",
    "    reduced_common_field_points = common_field_points.iloc[keep_indices]\n",
    "    reduced_common_control_points = common_control_points.iloc[keep_indices]\n",
    "\n",
    "    # Final transformation with reduced set\n",
    "    final_params = compute_transformation_params(reduced_common_control_points[['Easting', 'Northing']].values, \n",
    "                                                 reduced_common_field_points[['Easting', 'Northing']].values)\n",
    "    adjusted_points = transform_points(final_params, field_points[['Easting', 'Northing']].values)\n",
    "    \n",
    "    # Calculate and apply elevation adjustment\n",
    "    elevation_adjustment = calculate_elevation_adjustment(reduced_common_control_points, reduced_common_field_points)\n",
    "    adjusted_field_points = apply_elevation_adjustment(field_points, elevation_adjustment)\n",
    "\n",
    "    # Apply final transformation to adjusted field points (with elevation)\n",
    "    adjusted_points = transform_points(final_params, adjusted_field_points[['Easting', 'Northing']].values)\n",
    "    adjusted_points_df = pd.DataFrame(adjusted_points, columns=['Adjusted Easting', 'Adjusted Northing'], index=adjusted_field_points['ID'])\n",
    "    adjusted_points_df['Adjusted Elevation'] = adjusted_field_points['Adjusted Elevation']\n",
    "\n",
    "    # Rounding to 3 decimal places\n",
    "    adjusted_points_df = adjusted_points_df.round(3)\n",
    "    \n",
    "    return adjusted_points_df\n"
   ]
  },
  {
   "cell_type": "code",
   "execution_count": null,
   "id": "329a732d-0322-474d-b183-35b9aab479d5",
   "metadata": {},
   "outputs": [],
   "source": [
    "def main():\n",
    "    control_points = load_points_from_csv('control_points.csv')\n",
    "    field_points = load_points_from_csv('field_points.csv')\n",
    "\n",
    "    adjusted_points = create_adjusted_points(control_points, field_points)\n",
    "    print(adjusted_points)\n",
    "\n",
    "if __name__ == \"__main__\":\n",
    "    main()\n"
   ]
  },
  {
   "cell_type": "code",
   "execution_count": null,
   "id": "c42317d1-58b2-4a88-a2d5-3f75abbaf66c",
   "metadata": {},
   "outputs": [],
   "source": []
  }
 ],
 "metadata": {
  "kernelspec": {
   "display_name": "Python 3 (ipykernel)",
   "language": "python",
   "name": "python3"
  },
  "language_info": {
   "codemirror_mode": {
    "name": "ipython",
    "version": 3
   },
   "file_extension": ".py",
   "mimetype": "text/x-python",
   "name": "python",
   "nbconvert_exporter": "python",
   "pygments_lexer": "ipython3",
   "version": "3.12.0"
  }
 },
 "nbformat": 4,
 "nbformat_minor": 5
}
